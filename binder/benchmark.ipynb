{
 "cells": [
  {
   "cell_type": "code",
   "execution_count": 1,
   "metadata": {
    "execution": {
     "iopub.execute_input": "2024-05-27T13:52:36.156724Z",
     "iopub.status.busy": "2024-05-27T13:52:36.156310Z",
     "iopub.status.idle": "2024-05-27T13:52:37.511263Z",
     "shell.execute_reply": "2024-05-27T13:52:37.510726Z"
    }
   },
   "outputs": [],
   "source": [
    "import logging\n",
    "import random\n",
    "\n",
    "from backstrip import backplot\n",
    "from matplotlib import pyplot as plt\n",
    "from nbmetalog import nbmetalog as nbm\n",
    "import pandas as pd\n",
    "import pecking\n",
    "from teeplot import teeplot as tp\n",
    "\n",
    "random.seed(1)\n",
    "\n",
    "logging.basicConfig(\n",
    "    format=\"[%(funcName)s:%(lineno)d] %(message)s\",\n",
    ")\n",
    "logger = logging.getLogger()\n"
   ]
  },
  {
   "cell_type": "code",
   "execution_count": 2,
   "metadata": {
    "execution": {
     "iopub.execute_input": "2024-05-27T13:52:37.514164Z",
     "iopub.status.busy": "2024-05-27T13:52:37.513647Z",
     "iopub.status.idle": "2024-05-27T13:52:37.729266Z",
     "shell.execute_reply": "2024-05-27T13:52:37.728639Z"
    }
   },
   "outputs": [
    {
     "name": "stdout",
     "output_type": "stream",
     "text": [
      "context: ci\n",
      "hostname: fv-az1788-468\n",
      "interpreter: 3.10.12 (main, Nov 20 2023, 15:14:05) [GCC 11.4.0]\n",
      "nbcellexec: null\n",
      "nbname: benchmark\n",
      "nbpath: /home/runner/work/hstrat-wafer-scale/hstrat-wafer-scale/binder/benchmark.ipynb\n",
      "revision: null\n",
      "session: eaab75b8-31bf-4849-91b5-7a86c89dd8b3\n",
      "timestamp: 2024-05-27T13:52:37Z00:00\n",
      "\n",
      "\n",
      "IPython==8.20.0\n",
      "keyname==0.6.0\n",
      "yaml==6.0.1\n",
      "logging==0.5.1.2\n",
      "matplotlib==3.8.3\n",
      "nbmetalog==0.2.6\n",
      "pandas==1.5.3\n",
      "pecking==0.2.2\n",
      "teeplot==1.0.1\n",
      "re==2.2.1\n",
      "comm==0.2.1\n",
      "psutil==5.9.8\n",
      "zmq==25.1.2\n",
      "json==2.0.9\n",
      "ipykernel==6.29.0\n"
     ]
    }
   ],
   "source": [
    "nbm.print_metadata()\n"
   ]
  },
  {
   "cell_type": "markdown",
   "metadata": {},
   "source": [
    "## Get Data\n"
   ]
  },
  {
   "cell_type": "code",
   "execution_count": 3,
   "metadata": {
    "execution": {
     "iopub.execute_input": "2024-05-27T13:52:37.757267Z",
     "iopub.status.busy": "2024-05-27T13:52:37.756882Z",
     "iopub.status.idle": "2024-05-27T13:52:42.466056Z",
     "shell.execute_reply": "2024-05-27T13:52:42.465466Z"
    }
   },
   "outputs": [],
   "source": [
    "df = pd.concat(\n",
    "    [\n",
    "        pd.read_csv(\"https://osf.io/n4xyp/download\"),\n",
    "        pd.read_csv(\"https://osf.io/egjxr/download\"),\n",
    "    ],\n",
    "    ignore_index=True,\n",
    ")\n"
   ]
  },
  {
   "cell_type": "code",
   "execution_count": 4,
   "metadata": {
    "execution": {
     "iopub.execute_input": "2024-05-27T13:52:42.468629Z",
     "iopub.status.busy": "2024-05-27T13:52:42.468283Z",
     "iopub.status.idle": "2024-05-27T13:52:42.471626Z",
     "shell.execute_reply": "2024-05-27T13:52:42.471086Z"
    }
   },
   "outputs": [],
   "source": [
    "df[\"Nanoseconds per Op\"] = df[\"Nanoseconds\"] / df[\"Num Operations\"]\n"
   ]
  },
  {
   "cell_type": "code",
   "execution_count": 5,
   "metadata": {
    "execution": {
     "iopub.execute_input": "2024-05-27T13:52:42.473796Z",
     "iopub.status.busy": "2024-05-27T13:52:42.473452Z",
     "iopub.status.idle": "2024-05-27T13:52:42.491518Z",
     "shell.execute_reply": "2024-05-27T13:52:42.490951Z"
    }
   },
   "outputs": [
    {
     "data": {
      "text/html": [
       "<div>\n",
       "<style scoped>\n",
       "    .dataframe tbody tr th:only-of-type {\n",
       "        vertical-align: middle;\n",
       "    }\n",
       "\n",
       "    .dataframe tbody tr th {\n",
       "        vertical-align: top;\n",
       "    }\n",
       "\n",
       "    .dataframe thead th {\n",
       "        text-align: right;\n",
       "    }\n",
       "</style>\n",
       "<table border=\"1\" class=\"dataframe\">\n",
       "  <thead>\n",
       "    <tr style=\"text-align: right;\">\n",
       "      <th></th>\n",
       "      <th></th>\n",
       "      <th></th>\n",
       "      <th>mean</th>\n",
       "      <th>sem</th>\n",
       "    </tr>\n",
       "    <tr>\n",
       "      <th>Language</th>\n",
       "      <th>Implementation</th>\n",
       "      <th>Policy</th>\n",
       "      <th></th>\n",
       "      <th></th>\n",
       "    </tr>\n",
       "  </thead>\n",
       "  <tbody>\n",
       "    <tr>\n",
       "      <th rowspan=\"9\" valign=\"top\">Python</th>\n",
       "      <th rowspan=\"5\" valign=\"top\">column</th>\n",
       "      <th>geom-seq-nth-root</th>\n",
       "      <td>336.375230</td>\n",
       "      <td>3.815625</td>\n",
       "    </tr>\n",
       "    <tr>\n",
       "      <th>recency-proportional-resolution</th>\n",
       "      <td>41.460680</td>\n",
       "      <td>0.696072</td>\n",
       "    </tr>\n",
       "    <tr>\n",
       "      <th>steady</th>\n",
       "      <td>29.056492</td>\n",
       "      <td>0.629651</td>\n",
       "    </tr>\n",
       "    <tr>\n",
       "      <th>tilted</th>\n",
       "      <td>139.034474</td>\n",
       "      <td>6.051034</td>\n",
       "    </tr>\n",
       "    <tr>\n",
       "      <th>trivial</th>\n",
       "      <td>8.734774</td>\n",
       "      <td>0.145724</td>\n",
       "    </tr>\n",
       "    <tr>\n",
       "      <th rowspan=\"4\" valign=\"top\">surface</th>\n",
       "      <th>steady</th>\n",
       "      <td>4.186398</td>\n",
       "      <td>0.048544</td>\n",
       "    </tr>\n",
       "    <tr>\n",
       "      <th>tilted</th>\n",
       "      <td>4.129815</td>\n",
       "      <td>0.064143</td>\n",
       "    </tr>\n",
       "    <tr>\n",
       "      <th>tilted-sticky</th>\n",
       "      <td>4.003603</td>\n",
       "      <td>0.041232</td>\n",
       "    </tr>\n",
       "    <tr>\n",
       "      <th>trivial</th>\n",
       "      <td>1.000000</td>\n",
       "      <td>0.001161</td>\n",
       "    </tr>\n",
       "    <tr>\n",
       "      <th rowspan=\"4\" valign=\"top\">Zig</th>\n",
       "      <th rowspan=\"4\" valign=\"top\">surface</th>\n",
       "      <th>steady</th>\n",
       "      <td>109.606591</td>\n",
       "      <td>0.828525</td>\n",
       "    </tr>\n",
       "    <tr>\n",
       "      <th>tilted</th>\n",
       "      <td>49.402442</td>\n",
       "      <td>0.033535</td>\n",
       "    </tr>\n",
       "    <tr>\n",
       "      <th>tilted-sticky</th>\n",
       "      <td>61.364895</td>\n",
       "      <td>0.079350</td>\n",
       "    </tr>\n",
       "    <tr>\n",
       "      <th>trivial</th>\n",
       "      <td>1.000000</td>\n",
       "      <td>0.004066</td>\n",
       "    </tr>\n",
       "  </tbody>\n",
       "</table>\n",
       "</div>"
      ],
      "text/plain": [
       "                                                               mean       sem\n",
       "Language Implementation Policy                                               \n",
       "Python   column         geom-seq-nth-root                336.375230  3.815625\n",
       "                        recency-proportional-resolution   41.460680  0.696072\n",
       "                        steady                            29.056492  0.629651\n",
       "                        tilted                           139.034474  6.051034\n",
       "                        trivial                            8.734774  0.145724\n",
       "         surface        steady                             4.186398  0.048544\n",
       "                        tilted                             4.129815  0.064143\n",
       "                        tilted-sticky                      4.003603  0.041232\n",
       "                        trivial                            1.000000  0.001161\n",
       "Zig      surface        steady                           109.606591  0.828525\n",
       "                        tilted                            49.402442  0.033535\n",
       "                        tilted-sticky                     61.364895  0.079350\n",
       "                        trivial                            1.000000  0.004066"
      ]
     },
     "execution_count": 5,
     "metadata": {},
     "output_type": "execute_result"
    }
   ],
   "source": [
    "def divide_by_subset_mean(group):\n",
    "    group[\"Trivial Ratio\"] = (\n",
    "        group[\"Nanoseconds\"]\n",
    "        / group[\n",
    "            (group[\"Policy\"] == \"trivial\")\n",
    "            & (group[\"Implementation\"] == \"surface\")\n",
    "        ][\"Nanoseconds\"].mean()\n",
    "    )\n",
    "    return group\n",
    "\n",
    "\n",
    "result = (\n",
    "    df.groupby([\"Language\"], group_keys=True)\n",
    "    .apply(divide_by_subset_mean)\n",
    "    .reset_index(drop=True)\n",
    ")\n",
    "result.groupby([\"Language\", \"Implementation\", \"Policy\"])[\"Trivial Ratio\"].agg(\n",
    "    [\"mean\", \"sem\"]\n",
    ")\n"
   ]
  },
  {
   "cell_type": "markdown",
   "metadata": {},
   "source": [
    "## Visualize Results\n"
   ]
  },
  {
   "cell_type": "code",
   "execution_count": 6,
   "metadata": {
    "execution": {
     "iopub.execute_input": "2024-05-27T13:52:42.493844Z",
     "iopub.status.busy": "2024-05-27T13:52:42.493504Z",
     "iopub.status.idle": "2024-05-27T13:52:44.497857Z",
     "shell.execute_reply": "2024-05-27T13:52:44.497186Z"
    }
   },
   "outputs": [
    {
     "name": "stderr",
     "output_type": "stream",
     "text": [
      "/home/runner/.local/lib/python3.10/site-packages/pecking/_skim_lowest.py:184: UserWarning: ValueError `At least two samples are required.` ocurred. No groups skimmed.\n",
      "  warnings.warn(f\"ValueError `{e}` ocurred. No groups skimmed.\")\n",
      "/home/runner/.local/lib/python3.10/site-packages/pecking/_skim_lowest.py:184: UserWarning: ValueError `At least two samples are required.` ocurred. No groups skimmed.\n",
      "  warnings.warn(f\"ValueError `{e}` ocurred. No groups skimmed.\")\n",
      "/home/runner/.local/lib/python3.10/site-packages/pecking/_skim_lowest.py:184: UserWarning: ValueError `At least two samples are required.` ocurred. No groups skimmed.\n",
      "  warnings.warn(f\"ValueError `{e}` ocurred. No groups skimmed.\")\n",
      "/home/runner/.local/lib/python3.10/site-packages/seaborn/axisgrid.py:123: UserWarning: This figure includes Axes that are not compatible with tight_layout, so results might be incorrect.\n",
      "  self._figure.tight_layout(*args, **kwargs)\n",
      "/home/runner/.local/lib/python3.10/site-packages/seaborn/axisgrid.py:123: UserWarning: This figure includes Axes that are not compatible with tight_layout, so results might be incorrect.\n",
      "  self._figure.tight_layout(*args, **kwargs)\n"
     ]
    },
    {
     "name": "stderr",
     "output_type": "stream",
     "text": [
      "/home/runner/.local/lib/python3.10/site-packages/seaborn/axisgrid.py:123: UserWarning: This figure includes Axes that are not compatible with tight_layout, so results might be incorrect.\n",
      "  self._figure.tight_layout(*args, **kwargs)\n"
     ]
    },
    {
     "name": "stdout",
     "output_type": "stream",
     "text": [
      "teeplots/all=false+hue=implementation+orient=h+row=language+score=nanoseconds-per-op+viz=peckplot+x=nanoseconds-per-op+y=policy+y-group=outer+ext=.pdf\n"
     ]
    },
    {
     "name": "stdout",
     "output_type": "stream",
     "text": [
      "teeplots/all=false+hue=implementation+orient=h+row=language+score=nanoseconds-per-op+viz=peckplot+x=nanoseconds-per-op+y=policy+y-group=outer+ext=.png\n"
     ]
    },
    {
     "data": {
      "image/png": "[encoded data removed]",
      "text/plain": [
       "<Figure size 1081.36x160 with 2 Axes>"
      ]
     },
     "metadata": {},
     "output_type": "display_data"
    },
    {
     "data": {
      "text/plain": [
       "<seaborn.axisgrid.FacetGrid at 0x7f9db283bdc0>"
      ]
     },
     "execution_count": 6,
     "metadata": {},
     "output_type": "execute_result"
    }
   ],
   "source": [
    "tp.tee(\n",
    "    pecking.peckplot,\n",
    "    data=df[\n",
    "        df[\"Policy\"].isin(\n",
    "            [\"steady\", \"tilted\", \"trivial\"],\n",
    "        )\n",
    "    ],\n",
    "    y=\"Policy\",\n",
    "    x=\"Nanoseconds per Op\",\n",
    "    hue=\"Implementation\",\n",
    "    score=\"Nanoseconds per Op\",\n",
    "    row=\"Language\",\n",
    "    y_group=\"outer\",\n",
    "    sharey=False,\n",
    "    orient=\"h\",\n",
    "    aspect=12,\n",
    "    height=0.8,\n",
    "    margin_titles=True,\n",
    "    skimmers=[pecking.skim_lowest],\n",
    "    skim_labels=[\"faster\"],\n",
    "    skim_hatches=[\"*\"],\n",
    "    log_scale=(True, False),\n",
    "    facet_kws=dict(gridspec_kws={\"wspace\": 0.2, \"hspace\": 0.2}),\n",
    "    teeplot_outattrs={\n",
    "        \"all\": \"false\",\n",
    "    },\n",
    "    teeplot_postprocess=\"\"\"\n",
    "plt.subplots_adjust(right=0.8);\n",
    "teed.axes.flat[1].set_ylim(2.5, 1);\n",
    "teed.set_titles(row_template='{row_name}');\n",
    "plt.setp(teed.legend.get_texts(), fontsize='8');\n",
    "plt.setp(teed.legend.get_title(), fontsize='10');\"\"\",\n",
    ")\n"
   ]
  }
 ],
 "metadata": {
  "kernelspec": {
   "display_name": "Python 3",
   "language": "python",
   "name": "python3"
  },
  "language_info": {
   "codemirror_mode": {
    "name": "ipython",
    "version": 3
   },
   "file_extension": ".py",
   "mimetype": "text/x-python",
   "name": "python",
   "nbconvert_exporter": "python",
   "pygments_lexer": "ipython3",
   "version": "3.10.12"
  }
 },
 "nbformat": 4,
 "nbformat_minor": 2
}
